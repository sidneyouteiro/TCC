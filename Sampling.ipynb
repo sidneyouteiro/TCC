{
 "cells": [
  {
   "cell_type": "code",
   "execution_count": 1,
   "id": "f39bac43-a224-44fa-a8c5-95a72e949d63",
   "metadata": {
    "tags": []
   },
   "outputs": [],
   "source": [
    "import pandas as pd\n",
    "from modules.utils import under_sampling"
   ]
  },
  {
   "cell_type": "code",
   "execution_count": 2,
   "id": "2584e10c-d2cb-454c-afe2-1315cac0a363",
   "metadata": {
    "tags": []
   },
   "outputs": [],
   "source": [
    "columns_names = [\n",
    "    'tau1','tau2','tau3',\n",
    "    'tau4','p1','p2','p3',\n",
    "    'p4','g1','g2','g3','g4'\n",
    "]\n",
    "dtypes = {i:float for i in columns_names}\n",
    "\n",
    "EletricalGrid = pd.read_csv(\n",
    "    'dataset/Data_for_UCI_named.csv',\n",
    "    dtype=dtypes).drop('stab', axis=1)"
   ]
  },
  {
   "cell_type": "code",
   "execution_count": 3,
   "id": "7f0649aa-3170-435a-9a07-5185359aa46f",
   "metadata": {
    "tags": []
   },
   "outputs": [],
   "source": [
    "df_1000 = under_sampling(EletricalGrid, 1_000, 'stabf')\n",
    "df_500 = under_sampling(EletricalGrid, 500, 'stabf')"
   ]
  },
  {
   "cell_type": "code",
   "execution_count": 4,
   "id": "e4c2a8f4-0167-47e3-a411-aafca0bd7f25",
   "metadata": {
    "tags": []
   },
   "outputs": [],
   "source": [
    "df_1000.to_csv('dataset/Data_for_UCI_named_1000.csv', index=False)\n",
    "df_500.to_csv('dataset/Data_for_UCI_named_500.csv', index=False)"
   ]
  }
 ],
 "metadata": {
  "kernelspec": {
   "display_name": "Python 3 (ipykernel)",
   "language": "python",
   "name": "python3"
  },
  "language_info": {
   "codemirror_mode": {
    "name": "ipython",
    "version": 3
   },
   "file_extension": ".py",
   "mimetype": "text/x-python",
   "name": "python",
   "nbconvert_exporter": "python",
   "pygments_lexer": "ipython3",
   "version": "3.10.12"
  }
 },
 "nbformat": 4,
 "nbformat_minor": 5
}
