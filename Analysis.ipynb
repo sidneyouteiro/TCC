{
 "cells": [
  {
   "cell_type": "code",
   "execution_count": 1,
   "id": "d88ab37a-53a2-4927-86b9-69776c32ac4e",
   "metadata": {
    "tags": []
   },
   "outputs": [],
   "source": [
    "import matplotlib.pyplot as plt\n",
    "import pandas as pd\n",
    "import seaborn as sns\n",
    "from os import listdir\n",
    "from os.path import isfile, join"
   ]
  },
  {
   "cell_type": "code",
   "execution_count": 8,
   "id": "2de694f3-de82-477d-bd1d-7a5dddbe42bf",
   "metadata": {
    "tags": []
   },
   "outputs": [],
   "source": [
    "onlyfiles = sorted([f for f in listdir('results') if isfile(join('./results', f))])"
   ]
  },
  {
   "cell_type": "code",
   "execution_count": 9,
   "id": "ae2a5afd-6c47-413b-afe3-c791562a9bf4",
   "metadata": {
    "tags": []
   },
   "outputs": [
    {
     "data": {
      "text/plain": [
       "['results500_50_800.csv',\n",
       " 'results500_100_800.csv',\n",
       " 'results500_150_800.csv',\n",
       " 'results500_200_800.csv',\n",
       " 'results500_250_800.csv',\n",
       " 'results500_300_800.csv']"
      ]
     },
     "execution_count": 9,
     "metadata": {},
     "output_type": "execute_result"
    }
   ],
   "source": [
    "onlyfiles[0], onlyfiles[1:] = onlyfiles[-1], onlyfiles[0:-1]\n",
    "onlyfiles"
   ]
  },
  {
   "cell_type": "code",
   "execution_count": 62,
   "id": "064c107e-3d64-475a-bcff-8dbb48fabf37",
   "metadata": {
    "tags": []
   },
   "outputs": [],
   "source": [
    "csvs = []\n",
    "for file in onlyfiles:\n",
    "    name, _ = file.split('.csv')\n",
    "    _, population_size, generations = name.split('_')\n",
    "    aux_df = pd.read_csv(f'results/{file}')\n",
    "    aux_df['Population Size'] = int(population_size)\n",
    "    aux_df['Generations Count'] = int(generations)\n",
    "    csvs.append(aux_df)\n",
    "df = pd.concat(csvs).reset_index(drop=True)"
   ]
  },
  {
   "cell_type": "code",
   "execution_count": 63,
   "id": "da4a2dcb-ec40-4053-9fdc-80e266fb8b7f",
   "metadata": {
    "tags": []
   },
   "outputs": [],
   "source": [
    "results = df.groupby(\n",
    "    by=['Model','Generations Count', 'Population Size']\n",
    ")[['ACC','MCC','Partition Time']].agg(['mean','std','count'])"
   ]
  },
  {
   "cell_type": "code",
   "execution_count": 67,
   "id": "cdd8cec6-9d16-4aec-b7bf-4c94682f3043",
   "metadata": {
    "tags": []
   },
   "outputs": [
    {
     "name": "stdout",
     "output_type": "stream",
     "text": [
      "mean      0.680800\n",
      "std       0.221659\n",
      "count    25.000000\n",
      "Name: (NCA+PSO, 800, 50), dtype: float64\n",
      "mean      0.705200\n",
      "std       0.188638\n",
      "count    25.000000\n",
      "Name: (NCA+PSO, 800, 100), dtype: float64\n",
      "mean      0.722000\n",
      "std       0.178816\n",
      "count    25.000000\n",
      "Name: (NCA+PSO, 800, 150), dtype: float64\n",
      "mean      0.719200\n",
      "std       0.183506\n",
      "count    25.000000\n",
      "Name: (NCA+PSO, 800, 200), dtype: float64\n",
      "mean      0.701600\n",
      "std       0.189004\n",
      "count    25.000000\n",
      "Name: (NCA+PSO, 800, 250), dtype: float64\n",
      "mean      0.715200\n",
      "std       0.187575\n",
      "count    25.000000\n",
      "Name: (NCA+PSO, 800, 300), dtype: float64\n"
     ]
    },
    {
     "data": {
      "text/html": [
       "<div>\n",
       "<style scoped>\n",
       "    .dataframe tbody tr th:only-of-type {\n",
       "        vertical-align: middle;\n",
       "    }\n",
       "\n",
       "    .dataframe tbody tr th {\n",
       "        vertical-align: top;\n",
       "    }\n",
       "\n",
       "    .dataframe thead tr th {\n",
       "        text-align: left;\n",
       "    }\n",
       "\n",
       "    .dataframe thead tr:last-of-type th {\n",
       "        text-align: right;\n",
       "    }\n",
       "</style>\n",
       "<table border=\"1\" class=\"dataframe\">\n",
       "  <thead>\n",
       "    <tr>\n",
       "      <th></th>\n",
       "      <th></th>\n",
       "      <th></th>\n",
       "      <th colspan=\"3\" halign=\"left\">ACC</th>\n",
       "      <th colspan=\"3\" halign=\"left\">MCC</th>\n",
       "      <th colspan=\"3\" halign=\"left\">Partition Time</th>\n",
       "    </tr>\n",
       "    <tr>\n",
       "      <th></th>\n",
       "      <th></th>\n",
       "      <th></th>\n",
       "      <th>mean</th>\n",
       "      <th>std</th>\n",
       "      <th>count</th>\n",
       "      <th>mean</th>\n",
       "      <th>std</th>\n",
       "      <th>count</th>\n",
       "      <th>mean</th>\n",
       "      <th>std</th>\n",
       "      <th>count</th>\n",
       "    </tr>\n",
       "    <tr>\n",
       "      <th>Model</th>\n",
       "      <th>Generations Count</th>\n",
       "      <th>Population Size</th>\n",
       "      <th></th>\n",
       "      <th></th>\n",
       "      <th></th>\n",
       "      <th></th>\n",
       "      <th></th>\n",
       "      <th></th>\n",
       "      <th></th>\n",
       "      <th></th>\n",
       "      <th></th>\n",
       "    </tr>\n",
       "  </thead>\n",
       "  <tbody>\n",
       "    <tr>\n",
       "      <th rowspan=\"6\" valign=\"top\">NCA+PSO</th>\n",
       "      <th rowspan=\"6\" valign=\"top\">800</th>\n",
       "      <th>50</th>\n",
       "      <td>0.6808</td>\n",
       "      <td>0.221659</td>\n",
       "      <td>25</td>\n",
       "      <td>0.071388</td>\n",
       "      <td>0.146377</td>\n",
       "      <td>25</td>\n",
       "      <td>223.014496</td>\n",
       "      <td>9.800889</td>\n",
       "      <td>25</td>\n",
       "    </tr>\n",
       "    <tr>\n",
       "      <th>100</th>\n",
       "      <td>0.7052</td>\n",
       "      <td>0.188638</td>\n",
       "      <td>25</td>\n",
       "      <td>0.077398</td>\n",
       "      <td>0.159252</td>\n",
       "      <td>25</td>\n",
       "      <td>482.988181</td>\n",
       "      <td>32.276548</td>\n",
       "      <td>25</td>\n",
       "    </tr>\n",
       "    <tr>\n",
       "      <th>150</th>\n",
       "      <td>0.7220</td>\n",
       "      <td>0.178816</td>\n",
       "      <td>25</td>\n",
       "      <td>0.077372</td>\n",
       "      <td>0.158870</td>\n",
       "      <td>25</td>\n",
       "      <td>739.354971</td>\n",
       "      <td>45.824732</td>\n",
       "      <td>25</td>\n",
       "    </tr>\n",
       "    <tr>\n",
       "      <th>200</th>\n",
       "      <td>0.7192</td>\n",
       "      <td>0.183506</td>\n",
       "      <td>25</td>\n",
       "      <td>0.081647</td>\n",
       "      <td>0.167574</td>\n",
       "      <td>25</td>\n",
       "      <td>1056.840954</td>\n",
       "      <td>61.203194</td>\n",
       "      <td>25</td>\n",
       "    </tr>\n",
       "    <tr>\n",
       "      <th>250</th>\n",
       "      <td>0.7016</td>\n",
       "      <td>0.189004</td>\n",
       "      <td>25</td>\n",
       "      <td>0.072095</td>\n",
       "      <td>0.147604</td>\n",
       "      <td>25</td>\n",
       "      <td>1412.374427</td>\n",
       "      <td>72.638747</td>\n",
       "      <td>25</td>\n",
       "    </tr>\n",
       "    <tr>\n",
       "      <th>300</th>\n",
       "      <td>0.7152</td>\n",
       "      <td>0.187575</td>\n",
       "      <td>25</td>\n",
       "      <td>0.081815</td>\n",
       "      <td>0.168117</td>\n",
       "      <td>25</td>\n",
       "      <td>1768.570217</td>\n",
       "      <td>71.491859</td>\n",
       "      <td>25</td>\n",
       "    </tr>\n",
       "  </tbody>\n",
       "</table>\n",
       "</div>"
      ],
      "text/plain": [
       "                                              ACC                       MCC  \\\n",
       "                                             mean       std count      mean   \n",
       "Model   Generations Count Population Size                                     \n",
       "NCA+PSO 800               50               0.6808  0.221659    25  0.071388   \n",
       "                          100              0.7052  0.188638    25  0.077398   \n",
       "                          150              0.7220  0.178816    25  0.077372   \n",
       "                          200              0.7192  0.183506    25  0.081647   \n",
       "                          250              0.7016  0.189004    25  0.072095   \n",
       "                          300              0.7152  0.187575    25  0.081815   \n",
       "\n",
       "                                                          Partition Time  \\\n",
       "                                                std count           mean   \n",
       "Model   Generations Count Population Size                                  \n",
       "NCA+PSO 800               50               0.146377    25     223.014496   \n",
       "                          100              0.159252    25     482.988181   \n",
       "                          150              0.158870    25     739.354971   \n",
       "                          200              0.167574    25    1056.840954   \n",
       "                          250              0.147604    25    1412.374427   \n",
       "                          300              0.168117    25    1768.570217   \n",
       "\n",
       "                                                            \n",
       "                                                 std count  \n",
       "Model   Generations Count Population Size                   \n",
       "NCA+PSO 800               50                9.800889    25  \n",
       "                          100              32.276548    25  \n",
       "                          150              45.824732    25  \n",
       "                          200              61.203194    25  \n",
       "                          250              72.638747    25  \n",
       "                          300              71.491859    25  "
      ]
     },
     "execution_count": 67,
     "metadata": {},
     "output_type": "execute_result"
    }
   ],
   "source": [
    "for i in results.index:\n",
    "    for metric in ['ACC', 'MCC', 'Partition Time']:\n",
    "        m, s, c = results.loc[i,(metric)]\n",
    "    #m, c, s = stats.loc[i]\n",
    "    #ci95_hi.append(m + 1.96*s/math.sqrt(c))\n",
    "    #ci95_lo.append(m - 1.96*s/math.sqrt(c))\n",
    "results"
   ]
  }
 ],
 "metadata": {
  "kernelspec": {
   "display_name": "Python 3 (ipykernel)",
   "language": "python",
   "name": "python3"
  },
  "language_info": {
   "codemirror_mode": {
    "name": "ipython",
    "version": 3
   },
   "file_extension": ".py",
   "mimetype": "text/x-python",
   "name": "python",
   "nbconvert_exporter": "python",
   "pygments_lexer": "ipython3",
   "version": "3.10.12"
  }
 },
 "nbformat": 4,
 "nbformat_minor": 5
}
