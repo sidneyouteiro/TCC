{
 "cells": [
  {
   "cell_type": "markdown",
   "metadata": {},
   "source": [
    "# Experimento TCC"
   ]
  },
  {
   "cell_type": "markdown",
   "metadata": {},
   "source": [
    "## Libs"
   ]
  },
  {
   "cell_type": "code",
   "execution_count": 1,
   "metadata": {
    "tags": []
   },
   "outputs": [],
   "source": [
    "from sklearn.neighbors import NeighborhoodComponentsAnalysis\n",
    "from multiprocessing import cpu_count\n",
    "\n",
    "import pandas as pd\n",
    "import numpy as np"
   ]
  },
  {
   "cell_type": "code",
   "execution_count": 2,
   "metadata": {
    "tags": []
   },
   "outputs": [],
   "source": [
    "from modules.classNCA import NCA\n",
    "from modules.optimization_funcs import PSO, Gradient\n",
    "from modules.utils import folds_run, sklearn_folds_run"
   ]
  },
  {
   "cell_type": "code",
   "execution_count": 38,
   "metadata": {
    "tags": []
   },
   "outputs": [],
   "source": [
    "dtypes = {\n",
    "    'tau1': float, 'tau2': float, 'tau3': float, 'tau4': float,'p1': float, 'p2': float,\n",
    "    'p3': float, 'p4': float, 'g1': float, 'g2': float, 'g3': float, 'g4': float}\n",
    "\n",
    "EletricalGrid = pd.read_csv('dataset/Data_for_UCI_named.csv',\n",
    "                            dtype=dtypes).drop('stab', axis=1)"
   ]
  },
  {
   "cell_type": "code",
   "execution_count": 4,
   "metadata": {
    "tags": []
   },
   "outputs": [],
   "source": [
    "X, y = EletricalGrid.drop('stabf',axis=1), EletricalGrid.stabf "
   ]
  },
  {
   "cell_type": "code",
   "execution_count": 5,
   "metadata": {},
   "outputs": [],
   "source": [
    "pso_options = {'optimization_func':PSO, 'max_iter':1000, 'k':100, 'cpu_count':None}#cpu_count())"
   ]
  },
  {
   "cell_type": "code",
   "execution_count": 7,
   "metadata": {
    "tags": []
   },
   "outputs": [
    {
     "name": "stderr",
     "output_type": "stream",
     "text": [
      "5it [00:37,  7.45s/it]"
     ]
    },
    {
     "name": "stdout",
     "output_type": "stream",
     "text": [
      "acc mean = 0.8099999999999999\n",
      "mcc mean = 0.5880783812539206\n"
     ]
    },
    {
     "name": "stderr",
     "output_type": "stream",
     "text": [
      "\n"
     ]
    }
   ],
   "source": [
    "results = folds_run(X, y, model_class=NCA, model_options=pso_options)\n",
    "for i in results:\n",
    "    print(f'{i} mean = {np.array(results[i]).mean()}')"
   ]
  },
  {
   "cell_type": "code",
   "execution_count": 19,
   "metadata": {},
   "outputs": [],
   "source": [
    "nca_sklearn = NeighborhoodComponentsAnalysis()\n",
    "sklearn_options = {'n_components':None, 'max_iter':1000,'random_state':42}"
   ]
  },
  {
   "cell_type": "code",
   "execution_count": 37,
   "metadata": {
    "tags": []
   },
   "outputs": [
    {
     "name": "stderr",
     "output_type": "stream",
     "text": [
      "5it [00:18,  3.61s/it]"
     ]
    },
    {
     "name": "stdout",
     "output_type": "stream",
     "text": [
      "acc mean = 0.859\n",
      "mcc mean = 0.6954053683643082\n"
     ]
    },
    {
     "name": "stderr",
     "output_type": "stream",
     "text": [
      "\n"
     ]
    }
   ],
   "source": [
    "npX, npy = np.asarray(X), np.asarray(y)\n",
    "results = sklearn_folds_run(npX, npy, 100, model_class=NeighborhoodComponentsAnalysis, model_options=sklearn_options)\n",
    "for i in results:\n",
    "    print(f'{i} mean = {np.array(results[i]).mean()}')"
   ]
  }
 ],
 "metadata": {
  "kernelspec": {
   "display_name": "Python 3 (ipykernel)",
   "language": "python",
   "name": "python3"
  },
  "language_info": {
   "codemirror_mode": {
    "name": "ipython",
    "version": 3
   },
   "file_extension": ".py",
   "mimetype": "text/x-python",
   "name": "python",
   "nbconvert_exporter": "python",
   "pygments_lexer": "ipython3",
   "version": "3.10.12"
  }
 },
 "nbformat": 4,
 "nbformat_minor": 4
}
