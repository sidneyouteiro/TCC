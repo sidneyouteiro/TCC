{
 "cells": [
  {
   "cell_type": "markdown",
   "metadata": {},
   "source": [
    "# Experimento TCC"
   ]
  },
  {
   "cell_type": "markdown",
   "metadata": {},
   "source": [
    "## Libs"
   ]
  },
  {
   "cell_type": "code",
   "execution_count": 1,
   "metadata": {
    "tags": []
   },
   "outputs": [],
   "source": [
    "from sklearn.neighbors import NeighborhoodComponentsAnalysis\n",
    "from psutil import cpu_count\n",
    "import pandas as pd\n",
    "import numpy as np"
   ]
  },
  {
   "cell_type": "code",
   "execution_count": 2,
   "metadata": {
    "tags": []
   },
   "outputs": [],
   "source": [
    "from modules.classNCA import NCA\n",
    "from modules.optimization_funcs import PSO, Gradient\n",
    "from modules.utils import folds_run, sklearn_folds_run\n",
    "\n",
    "%load_ext autoreload\n",
    "%autoreload 2"
   ]
  },
  {
   "cell_type": "code",
   "execution_count": 3,
   "metadata": {
    "tags": []
   },
   "outputs": [],
   "source": [
    "dtypes = {\n",
    "    'tau1': float, 'tau2': float, 'tau3': float, 'tau4': float,\n",
    "    'p1': float, 'p2': float,'p3': float, 'p4': float, \n",
    "    'g1': float, 'g2': float, 'g3': float, 'g4': float}\n",
    "\n",
    "EletricalGrid = pd.read_csv('dataset/Data_for_UCI_named.csv',\n",
    "                            dtype=dtypes, nrows=800).drop('stab', axis=1)"
   ]
  },
  {
   "cell_type": "code",
   "execution_count": 4,
   "metadata": {
    "tags": []
   },
   "outputs": [],
   "source": [
    "X, y = EletricalGrid.drop('stabf',axis=1), EletricalGrid.stabf "
   ]
  },
  {
   "cell_type": "code",
   "execution_count": 9,
   "metadata": {},
   "outputs": [],
   "source": [
    "my_pso_options = {\n",
    "    'optimization_func':PSO, \n",
    "    'max_iter':10, 'k':5, \n",
    "    'cpu_count':cpu_count() - 1,\n",
    "    'my_pso':True,\n",
    "    'swarm_size':200\n",
    "}\n",
    "\n",
    "not_my_pso_options = {\n",
    "    'optimization_func':PSO, \n",
    "    'max_iter':10, 'k':5, \n",
    "    'cpu_count':None,\n",
    "    'my_pso':False,\n",
    "    'swarm_size':200\n",
    "}"
   ]
  },
  {
   "cell_type": "code",
   "execution_count": 10,
   "metadata": {
    "tags": []
   },
   "outputs": [
    {
     "name": "stderr",
     "output_type": "stream",
     "text": [
      "5it [02:17, 27.49s/it]"
     ]
    },
    {
     "name": "stdout",
     "output_type": "stream",
     "text": [
      "acc mean = 0.775\n",
      "mcc mean = 0.49813566164845124\n"
     ]
    },
    {
     "name": "stderr",
     "output_type": "stream",
     "text": [
      "\n"
     ]
    }
   ],
   "source": [
    "results = folds_run(X, y, model_class=NCA, model_options=my_pso_options)\n",
    "for i in results:\n",
    "    print(f'{i} mean = {np.array(results[i]).mean()}')"
   ]
  },
  {
   "cell_type": "code",
   "execution_count": 11,
   "metadata": {
    "tags": []
   },
   "outputs": [
    {
     "name": "stderr",
     "output_type": "stream",
     "text": [
      "5it [00:08,  1.65s/it]"
     ]
    },
    {
     "name": "stdout",
     "output_type": "stream",
     "text": [
      "acc mean = 0.8074999999999999\n",
      "mcc mean = 0.5706169636306602\n"
     ]
    },
    {
     "name": "stderr",
     "output_type": "stream",
     "text": [
      "\n"
     ]
    }
   ],
   "source": [
    "results = folds_run(X, y, model_class=NCA, model_options=not_my_pso_options)\n",
    "for i in results:\n",
    "    print(f'{i} mean = {np.array(results[i]).mean()}')"
   ]
  },
  {
   "cell_type": "code",
   "execution_count": 8,
   "metadata": {
    "tags": []
   },
   "outputs": [],
   "source": [
    "#from pyswarms.utils.functions import single_obj as fx\n",
    "#from modules.classGlobalBestPSO import GlobalBestPSO\n",
    "\n",
    "#options = {'c1': 0.5, 'c2': 0.3, 'w':0.9}\n",
    "#optimizer = GlobalBestPSO(n_particles=10, dimensions=2, options=options)\n",
    "\n",
    "# Perform optimization\n",
    "#cost, pos = optimizer.optimize(fx.sphere, iters=1000, n_processes=cpu_count())"
   ]
  },
  {
   "cell_type": "code",
   "execution_count": null,
   "metadata": {
    "tags": []
   },
   "outputs": [],
   "source": []
  },
  {
   "cell_type": "code",
   "execution_count": 9,
   "metadata": {},
   "outputs": [],
   "source": [
    "#nca_sklearn = NeighborhoodComponentsAnalysis()\n",
    "#sklearn_options = {'n_components':None, 'max_iter':1000,'random_state':42}"
   ]
  },
  {
   "cell_type": "code",
   "execution_count": 10,
   "metadata": {
    "tags": []
   },
   "outputs": [],
   "source": [
    "#npX, npy = np.asarray(X), np.asarray(y)\n",
    "#results = sklearn_folds_run(npX, npy, 100, model_class=NeighborhoodComponentsAnalysis, model_options=sklearn_options)\n",
    "#for i in results:\n",
    "#    print(f'{i} mean = {np.array(results[i]).mean()}')"
   ]
  }
 ],
 "metadata": {
  "kernelspec": {
   "display_name": "Python 3 (ipykernel)",
   "language": "python",
   "name": "python3"
  },
  "language_info": {
   "codemirror_mode": {
    "name": "ipython",
    "version": 3
   },
   "file_extension": ".py",
   "mimetype": "text/x-python",
   "name": "python",
   "nbconvert_exporter": "python",
   "pygments_lexer": "ipython3",
   "version": "3.10.12"
  }
 },
 "nbformat": 4,
 "nbformat_minor": 4
}
