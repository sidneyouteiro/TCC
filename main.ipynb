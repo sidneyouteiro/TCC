{
 "cells": [
  {
   "cell_type": "markdown",
   "metadata": {},
   "source": [
    "# Experimento TCC"
   ]
  },
  {
   "cell_type": "markdown",
   "metadata": {},
   "source": [
    "## Libs"
   ]
  },
  {
   "cell_type": "code",
   "execution_count": 1,
   "metadata": {
    "tags": []
   },
   "outputs": [],
   "source": [
    "from sklearn.neighbors import (\n",
    "    NeighborhoodComponentsAnalysis, \n",
    "    KNeighborsClassifier\n",
    ")\n",
    "from psutil import cpu_count\n",
    "import numpy as np\n",
    "import pandas as pd\n",
    "import matplotlib.pyplot as plt\n",
    "import seaborn as sns\n",
    "\n",
    "\n",
    "sns.set()"
   ]
  },
  {
   "cell_type": "code",
   "execution_count": 2,
   "metadata": {
    "tags": []
   },
   "outputs": [],
   "source": [
    "from modules.classNCA import NCA\n",
    "from modules.optimization_funcs import PSO, Gradient\n",
    "from modules.utils import run_experiments"
   ]
  },
  {
   "cell_type": "code",
   "execution_count": 3,
   "metadata": {
    "tags": []
   },
   "outputs": [],
   "source": [
    "%load_ext autoreload\n",
    "%autoreload 2"
   ]
  },
  {
   "cell_type": "code",
   "execution_count": 4,
   "metadata": {
    "tags": []
   },
   "outputs": [],
   "source": [
    "columns_names = [\n",
    "    'tau1','tau2','tau3',\n",
    "    'tau4','p1','p2','p3',\n",
    "    'p4','g1','g2','g3','g4'\n",
    "]\n",
    "dtypes = {i:float for i in columns_names}\n",
    "\n",
    "EletricalGrid = pd.read_csv(\n",
    "    'dataset/Data_for_UCI_named.csv',\n",
    "    dtype=dtypes, nrows=300).drop('stab', axis=1)"
   ]
  },
  {
   "cell_type": "code",
   "execution_count": 5,
   "metadata": {
    "tags": []
   },
   "outputs": [],
   "source": [
    "X, y = EletricalGrid.drop('stabf',axis=1), EletricalGrid.stabf "
   ]
  },
  {
   "cell_type": "code",
   "execution_count": 6,
   "metadata": {
    "tags": []
   },
   "outputs": [],
   "source": [
    "K_Folds = 5\n",
    "K_neighbors = 5 # 50\n",
    "max_iter= 10#1_000\n",
    "N_cpu = cpu_count(logical=False)"
   ]
  },
  {
   "cell_type": "code",
   "execution_count": 7,
   "metadata": {
    "tags": []
   },
   "outputs": [],
   "source": [
    "experiments_configs = {\n",
    "    'K_Folds':K_Folds,\n",
    "    'nca_pso_options':{\n",
    "        'X':X, 'y':y, 'K_Folds':K_Folds, 'model_class':NCA,\n",
    "        'model_options':{\n",
    "            'optimization_func':PSO, 'max_iter':max_iter, \n",
    "            'k':K_neighbors, 'cpu_count': N_cpu,\n",
    "            'swarm_size':20\n",
    "        }\n",
    "    },\n",
    "    'nca_gradient_options': {\n",
    "        'X': np.asarray(X), 'y': np.asarray(y), \n",
    "        'K_Folds': K_Folds,'k': K_neighbors, \n",
    "        'model_class': NeighborhoodComponentsAnalysis,\n",
    "        'model_options': {\n",
    "            'n_components':None, 'max_iter':max_iter,\n",
    "            'random_state':42\n",
    "        }\n",
    "    },\n",
    "    'knn_options': {\n",
    "        'X': np.asarray(X), 'y': np.asarray(y), \n",
    "        'K_Folds': K_Folds, \n",
    "        'model_options': {\n",
    "            'n_neighbors': K_neighbors, 'n_jobs': N_cpu\n",
    "        },\n",
    "        'model_class': KNeighborsClassifier\n",
    "    }\n",
    "}"
   ]
  },
  {
   "cell_type": "code",
   "execution_count": 8,
   "metadata": {},
   "outputs": [
    {
     "name": "stdout",
     "output_type": "stream",
     "text": [
      "\n",
      "==============================\n",
      "Execução de validação cruzada para NCA+PSO, NCA+Gradient e KNN\n",
      "==============================\n",
      "Dimensões de X = (300, 12)\n",
      "KFold = 5\n",
      "Número de vizinhos usados na classificação = 5\n",
      "Número de núcleos sendo utilizados = 4\n",
      "\n"
     ]
    }
   ],
   "source": [
    "first_msg = f'''\n",
    "{'='*30}\n",
    "Execução de validação cruzada para NCA+PSO, NCA+Gradient e KNN\n",
    "{'='*30}\n",
    "Dimensões de X = {X.shape}\n",
    "KFold = {K_Folds}\n",
    "Número de vizinhos usados na classificação = {K_neighbors}\n",
    "Número de núcleos sendo utilizados = {N_cpu}\n",
    "'''\n",
    "print(first_msg)"
   ]
  },
  {
   "cell_type": "code",
   "execution_count": 9,
   "metadata": {},
   "outputs": [
    {
     "name": "stderr",
     "output_type": "stream",
     "text": [
      "KNN: 100%|███████████████████████████████████████████████████████████████████████████████████████████████████████████████████████| 2/2 [00:00<00:00,  7.45it/s]"
     ]
    },
    {
     "name": "stdout",
     "output_type": "stream",
     "text": [
      "[{'KNN': {'acc': [0.7333333333333333, 0.75, 0.8833333333333333, 0.85, 0.75], 'mcc': [0.35355339059327373, 0.45630518910673146, 0.7516598260212388, 0.6579490028442165, 0.45657169762696875], 'partition_time': [0.03477954864501953, 0.024910688400268555, 0.02468705177307129, 0.02485036849975586, 0.024746179580688477]}}, {'KNN': {'acc': [0.7333333333333333, 0.75, 0.8833333333333333, 0.85, 0.75], 'mcc': [0.35355339059327373, 0.45630518910673146, 0.7516598260212388, 0.6579490028442165, 0.45657169762696875], 'partition_time': [0.028368234634399414, 0.02470874786376953, 0.025043249130249023, 0.025014162063598633, 0.024623394012451172]}}]\n"
     ]
    },
    {
     "name": "stderr",
     "output_type": "stream",
     "text": [
      "\n"
     ]
    }
   ],
   "source": [
    "df = run_experiments(experiments_configs, n_runs = 2)"
   ]
  },
  {
   "cell_type": "code",
   "execution_count": null,
   "metadata": {},
   "outputs": [],
   "source": []
  }
 ],
 "metadata": {
  "kernelspec": {
   "display_name": "Python 3 (ipykernel)",
   "language": "python",
   "name": "python3"
  },
  "language_info": {
   "codemirror_mode": {
    "name": "ipython",
    "version": 3
   },
   "file_extension": ".py",
   "mimetype": "text/x-python",
   "name": "python",
   "nbconvert_exporter": "python",
   "pygments_lexer": "ipython3",
   "version": "3.9.2"
  }
 },
 "nbformat": 4,
 "nbformat_minor": 4
}
