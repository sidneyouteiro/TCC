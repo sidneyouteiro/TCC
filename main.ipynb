{
 "cells": [
  {
   "cell_type": "code",
   "execution_count": 1,
   "metadata": {},
   "outputs": [],
   "source": [
    "import numpy as np\n",
    "from sklearn.datasets import load_iris\n",
    "from sklearn.model_selection import train_test_split\n",
    "from sklearn.neighbors import NeighborhoodComponentsAnalysis\n",
    "from sklearn.preprocessing import StandardScaler\n",
    "from scipy.spatial.distance import euclidean"
   ]
  },
  {
   "cell_type": "code",
   "execution_count": 2,
   "metadata": {},
   "outputs": [],
   "source": [
    "iris = load_iris()\n",
    "X, y = iris.data, iris.target\n",
    "\n",
    "X_train, X_test, y_train, y_test = train_test_split(X, y, test_size=0.3, random_state=42)"
   ]
  },
  {
   "cell_type": "code",
   "execution_count": 3,
   "metadata": {},
   "outputs": [],
   "source": [
    "scaler = StandardScaler()\n",
    "X_train = scaler.fit_transform(X_train)\n",
    "X_test = scaler.transform(X_test)"
   ]
  },
  {
   "cell_type": "code",
   "execution_count": 4,
   "metadata": {},
   "outputs": [],
   "source": [
    "nca = NeighborhoodComponentsAnalysis(random_state=42)\n",
    "X_train_nca = nca.fit_transform(X_train, y_train)"
   ]
  },
  {
   "cell_type": "code",
   "execution_count": 5,
   "metadata": {},
   "outputs": [],
   "source": [
    "def classify_test_object(test_object):\n",
    "    class_probabilities = {}\n",
    "    for class_label in np.unique(y_train):\n",
    "        class_indices = np.where(y_train == class_label)[0]\n",
    "        distances = [euclidean(test_object, X_train_nca[i]) for i in class_indices]        \n",
    "        prob = 1 / (np.mean(distances) + 1e-6)\n",
    "        class_probabilities[class_label] = prob\n",
    "    return max(class_probabilities, key=class_probabilities.get)\n"
   ]
  },
  {
   "cell_type": "code",
   "execution_count": 6,
   "metadata": {},
   "outputs": [
    {
     "name": "stdout",
     "output_type": "stream",
     "text": [
      "Acurácia do classificador: 0.29\n"
     ]
    }
   ],
   "source": [
    "y_pred = [classify_test_object(test_obj) for test_obj in X_test]\n",
    "accuracy = np.mean(y_pred == y_test)\n",
    "print(f\"Acurácia do classificador: {accuracy:.2f}\")"
   ]
  },
  {
   "cell_type": "code",
   "execution_count": 7,
   "metadata": {},
   "outputs": [],
   "source": [
    "from classNCA import NCA"
   ]
  },
  {
   "cell_type": "code",
   "execution_count": 8,
   "metadata": {},
   "outputs": [
    {
     "data": {
      "text/plain": [
       "array([1, 2, 2, 1, 2, 1, 2, 1, 0, 2, 1, 0])"
      ]
     },
     "execution_count": 8,
     "metadata": {},
     "output_type": "execute_result"
    }
   ],
   "source": [
    "y_train[:12]"
   ]
  },
  {
   "cell_type": "code",
   "execution_count": 9,
   "metadata": {},
   "outputs": [
    {
     "name": "stdout",
     "output_type": "stream",
     "text": [
      "[[ True False False  True False  True False  True False False  True False]\n",
      " [False  True  True False  True False  True False False  True False False]\n",
      " [False  True  True False  True False  True False False  True False False]\n",
      " [ True False False  True False  True False  True False False  True False]\n",
      " [False  True  True False  True False  True False False  True False False]\n",
      " [ True False False  True False  True False  True False False  True False]\n",
      " [False  True  True False  True False  True False False  True False False]\n",
      " [ True False False  True False  True False  True False False  True False]\n",
      " [False False False False False False False False  True False False  True]\n",
      " [False  True  True False  True False  True False False  True False False]\n",
      " [ True False False  True False  True False  True False False  True False]\n",
      " [False False False False False False False False  True False False  True]]\n"
     ]
    },
    {
     "data": {
      "text/plain": [
       "1"
      ]
     },
     "execution_count": 9,
     "metadata": {},
     "output_type": "execute_result"
    }
   ],
   "source": [
    "NCA().fit(X_train[:12], y_train[:12])"
   ]
  }
 ],
 "metadata": {
  "kernelspec": {
   "display_name": "Python 3",
   "language": "python",
   "name": "python3"
  },
  "language_info": {
   "codemirror_mode": {
    "name": "ipython",
    "version": 3
   },
   "file_extension": ".py",
   "mimetype": "text/x-python",
   "name": "python",
   "nbconvert_exporter": "python",
   "pygments_lexer": "ipython3",
   "version": "3.10.12"
  },
  "orig_nbformat": 4
 },
 "nbformat": 4,
 "nbformat_minor": 2
}
