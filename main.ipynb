{
 "cells": [
  {
   "cell_type": "markdown",
   "metadata": {},
   "source": [
    "# Experimento TCC"
   ]
  },
  {
   "cell_type": "markdown",
   "metadata": {},
   "source": [
    "## Libs"
   ]
  },
  {
   "cell_type": "code",
   "execution_count": 1,
   "metadata": {
    "tags": []
   },
   "outputs": [],
   "source": [
    "from sklearn.neighbors import (\n",
    "    NeighborhoodComponentsAnalysis, KNeighborsClassifier\n",
    ")\n",
    "from psutil import cpu_count\n",
    "from dotenv import dotenv_values\n",
    "import numpy as np\n",
    "import pandas as pd"
   ]
  },
  {
   "cell_type": "code",
   "execution_count": 2,
   "metadata": {
    "tags": []
   },
   "outputs": [],
   "source": [
    "from modules.classNCA import NCA\n",
    "from modules.optimization_funcs import PSO\n",
    "from modules.utils import run_experiments, under_sampling, send_email"
   ]
  },
  {
   "cell_type": "code",
   "execution_count": 10,
   "metadata": {
    "tags": []
   },
   "outputs": [],
   "source": [
    "import os  \n",
    "os.makedirs('results', exist_ok=True)\n",
    "os.makedirs('graphs', exist_ok=True)"
   ]
  },
  {
   "cell_type": "code",
   "execution_count": 3,
   "metadata": {
    "tags": []
   },
   "outputs": [],
   "source": [
    "columns_names = [\n",
    "    'tau1','tau2','tau3',\n",
    "    'tau4','p1','p2','p3',\n",
    "    'p4','g1','g2','g3','g4'\n",
    "]\n",
    "dtypes = {i:float for i in columns_names}\n",
    "\n",
    "EletricalGrid = pd.read_csv(\n",
    "    'dataset/Data_for_UCI_named.csv',\n",
    "    dtype=dtypes)\n",
    "\n",
    "if 'stab' in EletricalGrid.columns:\n",
    "    EletricalGrid = EletricalGrid.drop('stab', axis=1)"
   ]
  },
  {
   "cell_type": "code",
   "execution_count": 4,
   "metadata": {
    "tags": []
   },
   "outputs": [],
   "source": [
    "X, y = EletricalGrid.drop('stabf',axis=1), EletricalGrid.stabf "
   ]
  },
  {
   "cell_type": "code",
   "execution_count": 5,
   "metadata": {
    "tags": []
   },
   "outputs": [],
   "source": [
    "K_Folds = 5\n",
    "K_neighbors = 50\n",
    "max_iter= 100\n",
    "N_cpu = cpu_count(logical=False)"
   ]
  },
  {
   "cell_type": "code",
   "execution_count": 7,
   "metadata": {},
   "outputs": [
    {
     "name": "stdout",
     "output_type": "stream",
     "text": [
      "\n",
      "==================================================\n",
      "Execução de validação cruzada para NCA+PSO, NCA+Gradient e KNN\n",
      "==================================================\n",
      "Dimensões de X = (300, 12)\n",
      "KFold = 5\n",
      "Número de vizinhos usados na classificação = 50\n",
      "Número de núcleos sendo utilizados = 2\n",
      "\n"
     ]
    }
   ],
   "source": [
    "first_msg = f'''\n",
    "{'='*50}\n",
    "Execução de validação cruzada para NCA+PSO, NCA+Gradient e KNN\n",
    "{'='*50}\n",
    "Dimensões de X = {X.shape}\n",
    "KFold = {K_Folds}\n",
    "Número de vizinhos usados na classificação = {K_neighbors}\n",
    "Número de núcleos sendo utilizados = {N_cpu}\n",
    "'''\n",
    "print(first_msg)"
   ]
  },
  {
   "cell_type": "code",
   "execution_count": null,
   "metadata": {},
   "outputs": [],
   "source": [
    "for i in range(10)\n",
    "    experiments_configs = {\n",
    "        'K_Folds':K_Folds,\n",
    "        'nca_pso':{\n",
    "            'X':X, 'y':y, 'K_Folds':K_Folds, 'model_class':NCA,\n",
    "            'model_options':{\n",
    "                'optimization_func':PSO, 'max_iter':max_iter, \n",
    "                'k':K_neighbors, 'cpu_count': N_cpu,\n",
    "                'swarm_size':10\n",
    "            }\n",
    "        },\n",
    "    #'nca_gradient': {\n",
    "    #    'X': np.asarray(X), 'y': np.asarray(y), \n",
    "    #    'K_Folds': K_Folds,'k': K_neighbors, \n",
    "    #    'model_class': NeighborhoodComponentsAnalysis,\n",
    "    #    'model_options': {\n",
    "    #        'n_components':None, 'max_iter':max_iter,\n",
    "    #        'random_state':42\n",
    "    #    }\n",
    "    #},\n",
    "    #'knn': {\n",
    "    #    'X': np.asarray(X), 'y': np.asarray(y), \n",
    "    #    'K_Folds': K_Folds, \n",
    "    #    'model_options': {\n",
    "    #        'n_neighbors': K_neighbors, 'n_jobs': N_cpu\n",
    "    #    },\n",
    "    #    'model_class': KNeighborsClassifier\n",
    "    #}\n",
    "    }\n",
    "    df = run_experiments(experiments_configs, n_runs = 1)\n",
    "    df.to_csv(f'results/NCA+PSO_10_{max_iter}.csv')\n",
    "    max_iter += 100"
   ]
  },
  {
   "cell_type": "code",
   "execution_count": null,
   "metadata": {},
   "outputs": [],
   "source": [
    "creds = dotenv_values()\n",
    "send_email('teste', creds)"
   ]
  }
 ],
 "metadata": {
  "kernelspec": {
   "display_name": "Python 3 (ipykernel)",
   "language": "python",
   "name": "python3"
  },
  "language_info": {
   "codemirror_mode": {
    "name": "ipython",
    "version": 3
   },
   "file_extension": ".py",
   "mimetype": "text/x-python",
   "name": "python",
   "nbconvert_exporter": "python",
   "pygments_lexer": "ipython3",
   "version": "3.10.12"
  }
 },
 "nbformat": 4,
 "nbformat_minor": 4
}
