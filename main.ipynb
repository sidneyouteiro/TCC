{
 "cells": [
  {
   "cell_type": "code",
   "execution_count": 16,
   "metadata": {},
   "outputs": [],
   "source": [
    "import numpy as np\n",
    "import pyswarms as ps\n",
    "\n",
    "from sklearn.model_selection import train_test_split\n",
    "from sklearn.neighbors import NeighborhoodComponentsAnalysis"
   ]
  },
  {
   "cell_type": "code",
   "execution_count": 20,
   "metadata": {
    "tags": []
   },
   "outputs": [],
   "source": [
    "from sklearn.datasets import load_iris\n",
    "\n",
    "iris = load_iris()\n",
    "X, y = iris.data, iris.target"
   ]
  },
  {
   "cell_type": "code",
   "execution_count": 21,
   "metadata": {},
   "outputs": [],
   "source": [
    "X_train, X_test, y_train, y_test = train_test_split(X, y, test_size=0.4, random_state=42)"
   ]
  },
  {
   "cell_type": "code",
   "execution_count": 22,
   "metadata": {},
   "outputs": [],
   "source": [
    "from sklearn.preprocessing import StandardScaler\n",
    "\n",
    "scaler = StandardScaler()\n",
    "X_train = scaler.fit_transform(X_train)\n",
    "X_test = scaler.transform(X_test)"
   ]
  },
  {
   "cell_type": "code",
   "execution_count": 23,
   "metadata": {},
   "outputs": [],
   "source": [
    "from modules.classNCA import NCA\n",
    "from modules.optimization_funcs import PSO"
   ]
  },
  {
   "cell_type": "code",
   "execution_count": 24,
   "metadata": {
    "tags": []
   },
   "outputs": [],
   "source": [
    "nca = NCA(optimization_func=PSO, max_iter=1000, k=5)"
   ]
  },
  {
   "cell_type": "code",
   "execution_count": 25,
   "metadata": {
    "tags": []
   },
   "outputs": [],
   "source": [
    "nca.fit(X_train,y_train)\n",
    "y_pred = nca.predict(X_test)"
   ]
  },
  {
   "cell_type": "code",
   "execution_count": 26,
   "metadata": {
    "tags": []
   },
   "outputs": [
    {
     "data": {
      "text/plain": [
       "0.8833333333333333"
      ]
     },
     "execution_count": 26,
     "metadata": {},
     "output_type": "execute_result"
    }
   ],
   "source": [
    "np.mean(y_pred == y_test)"
   ]
  },
  {
   "cell_type": "code",
   "execution_count": 9,
   "metadata": {},
   "outputs": [],
   "source": [
    "def Gradient(X, same_class_mask, transformation,max_iter=1000):\n",
    "    def alt_obj_func(x, same_class_mask, X_train):\n",
    "        from sklearn.metrics import pairwise_distances\n",
    "        from sklearn.utils.extmath import softmax\n",
    "        \n",
    "        X_embedded = np.dot(X_train,x.T)\n",
    "        p_ij = pairwise_distances(X_embedded, squared=True)\n",
    "        p_ij = softmax(-p_ij)\n",
    "        np.fill_diagonal(p_ij, 0.0)\n",
    "        \n",
    "        pi = same_class_mask * p_ij\n",
    "        \n",
    "    \n",
    "    def obj_func(x, same_class_mask, X_train):\n",
    "        from sklearn.metrics import pairwise_distances\n",
    "        from sklearn.utils.extmath import softmax\n",
    "        \n",
    "        for i in range(X_train.shape[0]):\n",
    "            \n",
    "            X_embedded = np.dot(X_train, x.T)\n",
    "            p_ij = pairwise_distances(X_embedded, squared=True)\n",
    "            p_ij = softmax(-p_ij)\n",
    "            np.fill_diagonal(p_ij, 0.0)\n",
    "            \n",
    "            p = 0.0\n",
    "            for j in range(X_train.shape[0]):\n",
    "                if same_class_mask[i][j]:\n",
    "                    p += p_ij[i][j]\n",
    "            \n",
    "            primeiro_termo = np.zeros( (x.shape[1],x.shape[1]) )\n",
    "            segundo_termo = np.zeros( (x.shape[1],x.shape[1]) )\n",
    "            \n",
    "            for k in range(X_train.shape[0]):\n",
    "                if i == k: continue\n",
    "                \n",
    "                xik = X_train[i] - X_train[k]\n",
    "                pik = p_ij[i][k]\n",
    "                term = pik * np.outer(xik,xik)\n",
    "                primeiro_termo += term\n",
    "                if same_class_mask[i][j]:\n",
    "                    segundo_termo += term\n",
    "            primeiro_termo *= p\n",
    "            \n",
    "            x += 0.5 * (primeiro_termo - segundo_termo)\n",
    "        return x\n",
    "    \n",
    "    transformation = transformation.reshape(-1, X.shape[1])\n",
    "    for it in range(max_iter):\n",
    "        transformation = obj_func(transformation, same_class_mask, X)\n",
    "\n",
    "    return np.ravel(transformation)"
   ]
  },
  {
   "cell_type": "code",
   "execution_count": 17,
   "metadata": {
    "tags": []
   },
   "outputs": [],
   "source": [
    "X = np.array( [[0,0], [0.,0.1], [0.3,0.1], [0.3, 0.0]] )\n",
    "y = np.array( [0, 1, 1, 0] )\n",
    "A = np.eye(X.shape[1])"
   ]
  },
  {
   "cell_type": "code",
   "execution_count": 18,
   "metadata": {
    "tags": []
   },
   "outputs": [],
   "source": [
    "mask = y[:, np.newaxis] == y[np.newaxis, :]"
   ]
  },
  {
   "cell_type": "code",
   "execution_count": 21,
   "metadata": {
    "tags": []
   },
   "outputs": [
    {
     "data": {
      "text/plain": [
       "array([[ True, False, False,  True],\n",
       "       [False,  True,  True, False],\n",
       "       [False,  True,  True, False],\n",
       "       [ True, False, False,  True]])"
      ]
     },
     "execution_count": 21,
     "metadata": {},
     "output_type": "execute_result"
    }
   ],
   "source": [
    "mask"
   ]
  },
  {
   "cell_type": "code",
   "execution_count": 26,
   "metadata": {
    "tags": []
   },
   "outputs": [],
   "source": [
    "def alt_obj_func(x, same_class_mask, X_train):\n",
    "        from sklearn.metrics import pairwise_distances\n",
    "        from sklearn.utils.extmath import softmax\n",
    "        \n",
    "        X_embedded = np.dot(X_train,x.T)\n",
    "        p_ij = pairwise_distances(X_embedded, squared=True)\n",
    "        print(f'before softmax\\n {p_ij}')\n",
    "        p_ij = softmax(-p_ij)\n",
    "        np.fill_diagonal(p_ij, 0.0)\n",
    "        print(f'after softmax\\n {p_ij}')\n",
    "        pi = same_class_mask * p_ij\n",
    "        print(pi)"
   ]
  },
  {
   "cell_type": "code",
   "execution_count": 27,
   "metadata": {
    "tags": []
   },
   "outputs": [
    {
     "name": "stdout",
     "output_type": "stream",
     "text": [
      "before softmax\n",
      " [[0.   0.01 0.1  0.09]\n",
      " [0.01 0.   0.09 0.1 ]\n",
      " [0.1  0.09 0.   0.01]\n",
      " [0.09 0.1  0.01 0.  ]]\n",
      "after softmax\n",
      " [[0.         0.25993621 0.23756381 0.23995137]\n",
      " [0.25993621 0.         0.23995137 0.23756381]\n",
      " [0.23756381 0.23995137 0.         0.25993621]\n",
      " [0.23995137 0.23756381 0.25993621 0.        ]]\n",
      "[[0.         0.         0.         0.23995137]\n",
      " [0.         0.         0.23995137 0.        ]\n",
      " [0.         0.23995137 0.         0.        ]\n",
      " [0.23995137 0.         0.         0.        ]]\n"
     ]
    }
   ],
   "source": [
    "alt_obj_func(A, mask, X)"
   ]
  },
  {
   "cell_type": "code",
   "execution_count": 16,
   "metadata": {
    "tags": []
   },
   "outputs": [],
   "source": [
    "nca_grad = NCA(optimization_func=Gradient, max_iter=1000, k=5)"
   ]
  },
  {
   "cell_type": "code",
   "execution_count": 18,
   "metadata": {
    "tags": []
   },
   "outputs": [
    {
     "data": {
      "text/plain": [
       "0.9833333333333333"
      ]
     },
     "execution_count": 18,
     "metadata": {},
     "output_type": "execute_result"
    }
   ],
   "source": [
    "nca_grad.fit(X_train, y_train)\n",
    "y_pred_grad = nca_grad.predict(X_test)\n",
    "np.mean(y_test == y_pred_grad)"
   ]
  }
 ],
 "metadata": {
  "kernelspec": {
   "display_name": "Python 3 (ipykernel)",
   "language": "python",
   "name": "python3"
  },
  "language_info": {
   "codemirror_mode": {
    "name": "ipython",
    "version": 3
   },
   "file_extension": ".py",
   "mimetype": "text/x-python",
   "name": "python",
   "nbconvert_exporter": "python",
   "pygments_lexer": "ipython3",
   "version": "3.10.12"
  }
 },
 "nbformat": 4,
 "nbformat_minor": 4
}
