{
 "cells": [
  {
   "cell_type": "markdown",
   "metadata": {},
   "source": [
    "# Experimento TCC"
   ]
  },
  {
   "cell_type": "markdown",
   "metadata": {},
   "source": [
    "## Libs"
   ]
  },
  {
   "cell_type": "code",
   "execution_count": 45,
   "metadata": {
    "tags": []
   },
   "outputs": [],
   "source": [
    "from sklearn.neighbors import NeighborhoodComponentsAnalysis, KNeighborsClassifier\n",
    "from psutil import cpu_count\n",
    "from tqdm import trange\n",
    "import numpy as np\n",
    "import pandas as pd"
   ]
  },
  {
   "cell_type": "code",
   "execution_count": 34,
   "metadata": {
    "tags": []
   },
   "outputs": [],
   "source": [
    "from modules.classNCA import NCA\n",
    "from modules.optimization_funcs import PSO, Gradient\n",
    "from modules.utils import nca_pso_folds_run, nca_gradient_folds_run, knn_folds_run, process_results"
   ]
  },
  {
   "cell_type": "code",
   "execution_count": 35,
   "metadata": {
    "tags": []
   },
   "outputs": [],
   "source": [
    "dtypes = {\n",
    "    'tau1': float, 'tau2': float, 'tau3': float, 'tau4': float,\n",
    "    'p1': float, 'p2': float,'p3': float, 'p4': float, \n",
    "    'g1': float, 'g2': float, 'g3': float, 'g4': float}\n",
    "\n",
    "EletricalGrid = pd.read_csv('dataset/Data_for_UCI_named.csv',\n",
    "                            dtype=dtypes, nrows=300).drop('stab', axis=1)"
   ]
  },
  {
   "cell_type": "code",
   "execution_count": 36,
   "metadata": {
    "tags": []
   },
   "outputs": [],
   "source": [
    "X, y = EletricalGrid.drop('stabf',axis=1), EletricalGrid.stabf "
   ]
  },
  {
   "cell_type": "code",
   "execution_count": 37,
   "metadata": {
    "tags": []
   },
   "outputs": [],
   "source": [
    "K_Folds = 5\n",
    "K_neighbors = 5 # 50\n",
    "max_iter= 10#1_000"
   ]
  },
  {
   "cell_type": "code",
   "execution_count": 43,
   "metadata": {
    "tags": []
   },
   "outputs": [],
   "source": [
    "nca_pso_options = {\n",
    "    'X':X, 'y':y, 'K_Folds':K_Folds, 'model_class':NCA,\n",
    "    'model_options':{\n",
    "        'optimization_func':PSO, 'max_iter':max_iter, \n",
    "        'K_Folds': K_Folds,'k':K_neighbors, \n",
    "        'cpu_count':cpu_count(),'swarm_size':20\n",
    "    }\n",
    "}\n",
    "\n",
    "nca_gradient_options = {\n",
    "    'X': np.asarray(X), 'y': np.asarray(y), 'K_Folds': K_Folds,\n",
    "    'k': K_neighbors, 'model_class': NeighborhoodComponentsAnalysis,\n",
    "    'model_options': {'n_components':None, 'max_iter':max_iter,'random_state':42}\n",
    "}\n",
    "\n",
    "knn_options = {\n",
    "    'X': np.asarray(X), 'y': np.asarray(y), 'K_Folds': K_Folds,'k': None, \n",
    "    'model_options': {'n_neighbors': K_neighbors, 'n_jobs': cpu_count()},\n",
    "    'model_class': KNeighborsClassifier\n",
    "}"
   ]
  },
  {
   "cell_type": "code",
   "execution_count": null,
   "metadata": {},
   "outputs": [],
   "source": [
    "print('Execução de validação cruzada para NCA+PSO, NCA+Gradient e KNN')"
   ]
  },
  {
   "cell_type": "code",
   "execution_count": 13,
   "metadata": {
    "tags": []
   },
   "outputs": [
    {
     "name": "stderr",
     "output_type": "stream",
     "text": [
      "100%|██████████████████████████████████████████████████████████████████████████████████████████████████████████████████████████| 10/10 [04:00<00:00, 24.04s/it]\n"
     ]
    }
   ],
   "source": [
    "nca_pso_results = [nca_pso_folds_run(**nca_pso_options) for _ in trange(10)]"
   ]
  },
  {
   "cell_type": "code",
   "execution_count": 50,
   "metadata": {
    "tags": []
   },
   "outputs": [
    {
     "name": "stderr",
     "output_type": "stream",
     "text": [
      "  0%|                                                                                                                                   | 0/10 [00:00<?, ?it/s]\n",
      "0it [00:00, ?it/s]\u001b[A\n",
      "1it [00:00,  1.30it/s]\u001b[A\n",
      "2it [00:01,  1.30it/s]\u001b[A\n",
      "3it [00:02,  1.30it/s]\u001b[A\n",
      "4it [00:03,  1.30it/s]\u001b[A\n",
      "5it [00:03,  1.30it/s]\u001b[A\n",
      " 10%|████████████▎                                                                                                              | 1/10 [00:03<00:34,  3.86s/it]\n",
      "0it [00:00, ?it/s]\u001b[A\n",
      "1it [00:00,  1.30it/s]\u001b[A\n",
      "2it [00:01,  1.30it/s]\u001b[A\n",
      "3it [00:02,  1.29it/s]\u001b[A\n",
      "4it [00:03,  1.30it/s]\u001b[A\n",
      "5it [00:03,  1.30it/s]\u001b[A\n",
      " 20%|████████████████████████▌                                                                                                  | 2/10 [00:07<00:30,  3.87s/it]\n",
      "0it [00:00, ?it/s]\u001b[A\n",
      "1it [00:00,  1.31it/s]\u001b[A\n",
      "2it [00:01,  1.31it/s]\u001b[A\n",
      "3it [00:02,  1.30it/s]\u001b[A\n",
      "4it [00:03,  1.30it/s]\u001b[A\n",
      "5it [00:03,  1.30it/s]\u001b[A\n",
      " 30%|████████████████████████████████████▉                                                                                      | 3/10 [00:11<00:27,  3.86s/it]\n",
      "0it [00:00, ?it/s]\u001b[A\n",
      "1it [00:00,  1.31it/s]\u001b[A\n",
      "2it [00:01,  1.21it/s]\u001b[A\n",
      "3it [00:02,  1.24it/s]\u001b[A\n",
      "4it [00:03,  1.27it/s]\u001b[A\n",
      "5it [00:03,  1.27it/s]\u001b[A\n",
      " 40%|█████████████████████████████████████████████████▏                                                                         | 4/10 [00:15<00:23,  3.90s/it]\n",
      "0it [00:00, ?it/s]\u001b[A\n",
      "1it [00:00,  1.30it/s]\u001b[A\n",
      "2it [00:01,  1.31it/s]\u001b[A\n",
      "3it [00:02,  1.30it/s]\u001b[A\n",
      "4it [00:03,  1.30it/s]\u001b[A\n",
      "5it [00:03,  1.26it/s]\u001b[A\n",
      " 50%|█████████████████████████████████████████████████████████████▌                                                             | 5/10 [00:19<00:19,  3.93s/it]\n",
      "0it [00:00, ?it/s]\u001b[A\n",
      "1it [00:00,  1.31it/s]\u001b[A\n",
      "2it [00:01,  1.31it/s]\u001b[A\n",
      "3it [00:02,  1.30it/s]\u001b[A\n",
      "4it [00:03,  1.30it/s]\u001b[A\n",
      "5it [00:03,  1.26it/s]\u001b[A\n",
      " 60%|█████████████████████████████████████████████████████████████████████████▊                                                 | 6/10 [00:23<00:15,  3.95s/it]\n",
      "0it [00:00, ?it/s]\u001b[A\n",
      "1it [00:00,  1.31it/s]\u001b[A\n",
      "2it [00:01,  1.30it/s]\u001b[A\n",
      "3it [00:02,  1.30it/s]\u001b[A\n",
      "4it [00:03,  1.30it/s]\u001b[A\n",
      "5it [00:03,  1.30it/s]\u001b[A\n",
      " 70%|██████████████████████████████████████████████████████████████████████████████████████                                     | 7/10 [00:27<00:11,  3.92s/it]\n",
      "0it [00:00, ?it/s]\u001b[A\n",
      "1it [00:00,  1.11it/s]\u001b[A\n",
      "2it [00:01,  1.19it/s]\u001b[A\n",
      "3it [00:02,  1.23it/s]\u001b[A\n",
      "4it [00:03,  1.26it/s]\u001b[A\n",
      "5it [00:04,  1.25it/s]\u001b[A\n",
      " 80%|██████████████████████████████████████████████████████████████████████████████████████████████████▍                        | 8/10 [00:31<00:07,  3.95s/it]\n",
      "0it [00:00, ?it/s]\u001b[A\n",
      "1it [00:00,  1.11it/s]\u001b[A\n",
      "2it [00:01,  1.22it/s]\u001b[A\n",
      "3it [00:02,  1.25it/s]\u001b[A\n",
      "4it [00:03,  1.20it/s]\u001b[A\n",
      "5it [00:04,  1.22it/s]\u001b[A\n",
      " 90%|██████████████████████████████████████████████████████████████████████████████████████████████████████████████▋            | 9/10 [00:35<00:03,  4.00s/it]\n",
      "0it [00:00, ?it/s]\u001b[A\n",
      "1it [00:00,  1.11it/s]\u001b[A\n",
      "2it [00:01,  1.17it/s]\u001b[A\n",
      "3it [00:02,  1.22it/s]\u001b[A\n",
      "4it [00:03,  1.21it/s]\u001b[A\n",
      "5it [00:04,  1.20it/s]\u001b[A\n",
      "100%|██████████████████████████████████████████████████████████████████████████████████████████████████████████████████████████| 10/10 [00:39<00:00,  3.97s/it]\n"
     ]
    }
   ],
   "source": [
    "nca_gradient_results = [nca_gradient_folds_run(**nca_gradient_options) for _ in trange(10, position=0,leave=True)]"
   ]
  },
  {
   "cell_type": "code",
   "execution_count": null,
   "metadata": {},
   "outputs": [],
   "source": [
    "knn_results = [knn_folds_run(**knn_options) for _ in trange(10)]"
   ]
  },
  {
   "cell_type": "code",
   "execution_count": 26,
   "metadata": {
    "tags": []
   },
   "outputs": [],
   "source": [
    "nca_pso_processed_results = process_results(nca_pso_results, K_Folds, 'NCA+PSO')\n",
    "nca_gradient_processed_results = process_results(nca_gradient_based_results, K_Folds, 'NCA+Gradient')\n",
    "knn_processed_results = process_results(knn_results, K_Folds, 'KNN')"
   ]
  },
  {
   "cell_type": "code",
   "execution_count": 29,
   "metadata": {
    "tags": []
   },
   "outputs": [],
   "source": [
    "df = pd.concat(\n",
    "    [\n",
    "        pd.DataFrame(nca_pso_processed_results), \n",
    "        pd.DataFrame(nca_gradient_processed_results),\n",
    "        pd.DataFrame(knn_processed_results)\n",
    "    ]).set_index('Model')"
   ]
  },
  {
   "cell_type": "code",
   "execution_count": 30,
   "metadata": {
    "tags": []
   },
   "outputs": [
    {
     "data": {
      "text/html": [
       "<div>\n",
       "<style scoped>\n",
       "    .dataframe tbody tr th:only-of-type {\n",
       "        vertical-align: middle;\n",
       "    }\n",
       "\n",
       "    .dataframe tbody tr th {\n",
       "        vertical-align: top;\n",
       "    }\n",
       "\n",
       "    .dataframe thead th {\n",
       "        text-align: right;\n",
       "    }\n",
       "</style>\n",
       "<table border=\"1\" class=\"dataframe\">\n",
       "  <thead>\n",
       "    <tr style=\"text-align: right;\">\n",
       "      <th></th>\n",
       "      <th>Mean Time</th>\n",
       "      <th>Std Time</th>\n",
       "      <th>Mean Acc</th>\n",
       "      <th>Std Acc</th>\n",
       "      <th>Mean Mcc</th>\n",
       "      <th>Std Mcc</th>\n",
       "    </tr>\n",
       "    <tr>\n",
       "      <th>Model</th>\n",
       "      <th></th>\n",
       "      <th></th>\n",
       "      <th></th>\n",
       "      <th></th>\n",
       "      <th></th>\n",
       "      <th></th>\n",
       "    </tr>\n",
       "  </thead>\n",
       "  <tbody>\n",
       "    <tr>\n",
       "      <th>NCA+PSO</th>\n",
       "      <td>24.030382</td>\n",
       "      <td>0.323351</td>\n",
       "      <td>0.789333</td>\n",
       "      <td>0.060016</td>\n",
       "      <td>0.536392</td>\n",
       "      <td>0.128498</td>\n",
       "    </tr>\n",
       "    <tr>\n",
       "      <th>NCA+Gradient</th>\n",
       "      <td>3.773018</td>\n",
       "      <td>0.009341</td>\n",
       "      <td>0.800000</td>\n",
       "      <td>0.052705</td>\n",
       "      <td>0.560192</td>\n",
       "      <td>0.109664</td>\n",
       "    </tr>\n",
       "  </tbody>\n",
       "</table>\n",
       "</div>"
      ],
      "text/plain": [
       "              Mean Time  Std Time  Mean Acc   Std Acc  Mean Mcc   Std Mcc\n",
       "Model                                                                    \n",
       "NCA+PSO       24.030382  0.323351  0.789333  0.060016  0.536392  0.128498\n",
       "NCA+Gradient   3.773018  0.009341  0.800000  0.052705  0.560192  0.109664"
      ]
     },
     "execution_count": 30,
     "metadata": {},
     "output_type": "execute_result"
    }
   ],
   "source": [
    "df"
   ]
  }
 ],
 "metadata": {
  "kernelspec": {
   "display_name": "Python 3 (ipykernel)",
   "language": "python",
   "name": "python3"
  },
  "language_info": {
   "codemirror_mode": {
    "name": "ipython",
    "version": 3
   },
   "file_extension": ".py",
   "mimetype": "text/x-python",
   "name": "python",
   "nbconvert_exporter": "python",
   "pygments_lexer": "ipython3",
   "version": "3.9.2"
  }
 },
 "nbformat": 4,
 "nbformat_minor": 4
}
