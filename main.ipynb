{
 "cells": [
  {
   "cell_type": "markdown",
   "metadata": {},
   "source": [
    "# Experimento TCC"
   ]
  },
  {
   "cell_type": "markdown",
   "metadata": {},
   "source": [
    "## Libs"
   ]
  },
  {
   "cell_type": "code",
   "execution_count": 1,
   "metadata": {
    "tags": []
   },
   "outputs": [],
   "source": [
    "from sklearn.neighbors import NeighborhoodComponentsAnalysis\n",
    "from psutil import cpu_count\n",
    "from tqdm import tqdm\n",
    "import numpy as np\n",
    "import pandas as pd"
   ]
  },
  {
   "cell_type": "code",
   "execution_count": 2,
   "metadata": {
    "tags": []
   },
   "outputs": [],
   "source": [
    "from modules.classNCA import NCA\n",
    "from modules.optimization_funcs import PSO, Gradient\n",
    "from modules.utils import folds_run, sklearn_folds_run"
   ]
  },
  {
   "cell_type": "code",
   "execution_count": 3,
   "metadata": {
    "tags": []
   },
   "outputs": [],
   "source": [
    "%load_ext autoreload\n",
    "%autoreload 2"
   ]
  },
  {
   "cell_type": "code",
   "execution_count": 4,
   "metadata": {
    "tags": []
   },
   "outputs": [],
   "source": [
    "dtypes = {\n",
    "    'tau1': float, 'tau2': float, 'tau3': float, 'tau4': float,\n",
    "    'p1': float, 'p2': float,'p3': float, 'p4': float, \n",
    "    'g1': float, 'g2': float, 'g3': float, 'g4': float}\n",
    "\n",
    "EletricalGrid = pd.read_csv('dataset/Data_for_UCI_named.csv',\n",
    "                            dtype=dtypes, nrows=300).drop('stab', axis=1)"
   ]
  },
  {
   "cell_type": "code",
   "execution_count": 5,
   "metadata": {
    "tags": []
   },
   "outputs": [],
   "source": [
    "X, y = EletricalGrid.drop('stabf',axis=1), EletricalGrid.stabf "
   ]
  },
  {
   "cell_type": "code",
   "execution_count": 6,
   "metadata": {},
   "outputs": [],
   "source": [
    "K_neighbors = 5\n",
    "max_iter= 10"
   ]
  },
  {
   "cell_type": "code",
   "execution_count": 7,
   "metadata": {
    "tags": []
   },
   "outputs": [],
   "source": [
    "my_pso_options = {\n",
    "    'optimization_func':PSO, 'max_iter':max_iter, 'k':K_neighbors, \n",
    "    'cpu_count':cpu_count(),'swarm_size':100\n",
    "}\n",
    "\n",
    "sklearn_options = {\n",
    "    'X': np.asarray(X), 'y': np.asarray(y),\n",
    "    'k': K_neighbors, 'model_class': NeighborhoodComponentsAnalysis,\n",
    "    'model_options': {'n_components':None, 'max_iter':max_iter,'random_state':42}\n",
    "}"
   ]
  },
  {
   "cell_type": "code",
   "execution_count": 8,
   "metadata": {
    "tags": []
   },
   "outputs": [
    {
     "name": "stderr",
     "output_type": "stream",
     "text": [
      "100%|██████████████████████████████████████████████████████████████████████████████████████████████████████████████████████████| 10/10 [05:15<00:00, 31.58s/it]\n"
     ]
    }
   ],
   "source": [
    "nca_pso_results = [folds_run(X, y, model_class=NCA, model_options=my_pso_options) for _ in tqdm(range(10))]"
   ]
  },
  {
   "cell_type": "code",
   "execution_count": 9,
   "metadata": {
    "tags": []
   },
   "outputs": [
    {
     "name": "stderr",
     "output_type": "stream",
     "text": [
      "100%|██████████████████████████████████████████████████████████████████████████████████████████████████████████████████████████| 10/10 [00:12<00:00,  1.27s/it]\n"
     ]
    }
   ],
   "source": [
    "nca_gradient_based_results = [sklearn_folds_run(**sklearn_options) for _ in tqdm(range(10))]"
   ]
  }
 ],
 "metadata": {
  "kernelspec": {
   "display_name": "Python 3 (ipykernel)",
   "language": "python",
   "name": "python3"
  },
  "language_info": {
   "codemirror_mode": {
    "name": "ipython",
    "version": 3
   },
   "file_extension": ".py",
   "mimetype": "text/x-python",
   "name": "python",
   "nbconvert_exporter": "python",
   "pygments_lexer": "ipython3",
   "version": "3.10.12"
  }
 },
 "nbformat": 4,
 "nbformat_minor": 4
}
